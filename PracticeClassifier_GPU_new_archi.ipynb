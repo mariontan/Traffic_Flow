{
 "cells": [
  {
   "cell_type": "code",
   "execution_count": 1,
   "metadata": {},
   "outputs": [],
   "source": [
    "import torch\n",
    "import torchvision\n",
    "import torchvision.transforms as transforms"
   ]
  },
  {
   "cell_type": "code",
   "execution_count": 2,
   "metadata": {},
   "outputs": [
    {
     "name": "stdout",
     "output_type": "stream",
     "text": [
      "Files already downloaded and verified\n",
      "Files already downloaded and verified\n"
     ]
    }
   ],
   "source": [
    "transform = transforms.Compose(\n",
    "    [transforms.ToTensor(),\n",
    "     transforms.Normalize((0.5, 0.5, 0.5), (0.5, 0.5, 0.5))])\n",
    "\n",
    "trainset = torchvision.datasets.CIFAR10(root='./data', train=True,\n",
    "                                        download=True, transform=transform)\n",
    "trainloader = torch.utils.data.DataLoader(trainset, batch_size=4,\n",
    "                                          shuffle=True, num_workers=2)\n",
    "\n",
    "testset = torchvision.datasets.CIFAR10(root='./data', train=False,\n",
    "                                       download=True, transform=transform)\n",
    "testloader = torch.utils.data.DataLoader(testset, batch_size=4,\n",
    "                                         shuffle=False, num_workers=2)\n",
    "\n",
    "classes = ('plane', 'car', 'bird', 'cat',\n",
    "           'deer', 'dog', 'frog', 'horse', 'ship', 'truck')"
   ]
  },
  {
   "cell_type": "code",
   "execution_count": 3,
   "metadata": {},
   "outputs": [
    {
     "data": {
      "text/plain": [
       "<Figure size 640x480 with 1 Axes>"
      ]
     },
     "metadata": {},
     "output_type": "display_data"
    },
    {
     "name": "stdout",
     "output_type": "stream",
     "text": [
      " ship  deer plane   dog\n"
     ]
    }
   ],
   "source": [
    "import matplotlib.pyplot as plt\n",
    "import numpy as np\n",
    "\n",
    "# functions to show an image\n",
    "\n",
    "\n",
    "def imshow(img):\n",
    "    img = img / 2 + 0.5     # unnormalize\n",
    "    npimg = img.numpy()\n",
    "    plt.imshow(np.transpose(npimg, (1, 2, 0)))\n",
    "    plt.show()\n",
    "\n",
    "\n",
    "# get some random training images\n",
    "dataiter = iter(trainloader)\n",
    "images, labels = dataiter.next()\n",
    "\n",
    "# show images\n",
    "imshow(torchvision.utils.make_grid(images))\n",
    "# print labels\n",
    "print(' '.join('%5s' % classes[labels[j]] for j in range(4)))"
   ]
  },
  {
   "cell_type": "code",
   "execution_count": 4,
   "metadata": {},
   "outputs": [
    {
     "name": "stdout",
     "output_type": "stream",
     "text": [
      "cuda:0\n",
      "Network transfer to GPU\n",
      "Network transfer on GPU done\n"
     ]
    }
   ],
   "source": [
    "import torch.nn as nn\n",
    "import torch.nn.functional as F\n",
    "\n",
    "#in a CNN the outchannels generraly increase for the conv layers while they \n",
    "# decrease for the fully connected layers\n",
    "# class Net(nn.Module):\n",
    "#     def __init__(self):\n",
    "#         super(Net, self).__init__()\n",
    "#         self.conv1 = nn.Conv2d(color channel, arbritrary1, 5)\n",
    "#         self.pool = nn.MaxPool2d(2, 2)\n",
    "#         self.conv2 = nn.Conv2d(arbritrary1, arbritrary2, 5)\n",
    "#         self.fc1 = nn.Linear(arbritrary2 * height of out channel* width of out channel, 120)\n",
    "#         self.fc2 = nn.Linear(120, 84)\n",
    "#         self.fc3 = nn.Linear(84, 10)\n",
    "\n",
    "#     def forward(self, x):\n",
    "#         x = self.pool(F.relu(self.conv1(x)))\n",
    "#         x = self.pool(F.relu(self.conv2(x)))\n",
    "#         x = x.view(-1, arbritrary1 * height of out channel* width of out channel)\n",
    "#         x = F.relu(self.fc1(x))\n",
    "#         x = F.relu(self.fc2(x))\n",
    "#         x = self.fc3(x)\n",
    "#         return x\n",
    "# to calculate height of channel o=((input_size-filter+2*padding)/stride)+1\n",
    "class Net(nn.Module):\n",
    "    def __init__(self):\n",
    "        super(Net, self).__init__()\n",
    "        self.conv1 = nn.Conv2d(3, 60, 5)\n",
    "        self.pool = nn.MaxPool2d(2, 2)\n",
    "        self.conv2 = nn.Conv2d(60, 90, 5)\n",
    "        self.conv3 = nn.Conv2d(90, 120, 5)\n",
    "        self.fc1 = nn.Linear(120 * 1 * 1, 340)\n",
    "        self.fc2 = nn.Linear(340,220)\n",
    "        self.fc3 = nn.Linear(220, 84)\n",
    "        self.fc4 = nn.Linear(84, 10)\n",
    "\n",
    "    def forward(self, x):\n",
    "        x = self.pool(F.relu(self.conv1(x)))\n",
    "        x = self.pool(F.relu(self.conv2(x)))\n",
    "        x = self.pool(F.relu(self.conv3(x)))\n",
    "        x = x.view(-1, 120 * 1 * 1)\n",
    "        x = F.relu(self.fc1(x))\n",
    "        x = F.relu(self.fc2(x))\n",
    "        x = F.relu(self.fc3(x))\n",
    "        x = self.fc4(x)\n",
    "        return x\n",
    "\n",
    "\n",
    "net = Net()\n",
    "import torch.optim as optim\n",
    "\n",
    "criterion = nn.CrossEntropyLoss()\n",
    "optimizer = optim.SGD(net.parameters(), lr=0.001, momentum=0.9)\n",
    "device = torch.device(\"cuda:0\")\n",
    "print(device)\n",
    "if device:\n",
    "    net.to(device)\n",
    "    print(\"Network transfer to GPU\")\n",
    "print(\"Network transfer on GPU done\")\n"
   ]
  },
  {
   "cell_type": "code",
   "execution_count": 5,
   "metadata": {},
   "outputs": [
    {
     "name": "stdout",
     "output_type": "stream",
     "text": [
      "[1,  2000] loss: 2.302\n"
     ]
    },
    {
     "ename": "KeyboardInterrupt",
     "evalue": "",
     "output_type": "error",
     "traceback": [
      "\u001b[1;31m---------------------------------------------------------------------------\u001b[0m",
      "\u001b[1;31mKeyboardInterrupt\u001b[0m                         Traceback (most recent call last)",
      "\u001b[1;32m<ipython-input-5-888f2e6d5e25>\u001b[0m in \u001b[0;36m<module>\u001b[1;34m\u001b[0m\n\u001b[0;32m     12\u001b[0m         \u001b[0moutputs\u001b[0m \u001b[1;33m=\u001b[0m \u001b[0mnet\u001b[0m\u001b[1;33m(\u001b[0m\u001b[0minputs\u001b[0m\u001b[1;33m)\u001b[0m\u001b[1;33m\u001b[0m\u001b[1;33m\u001b[0m\u001b[0m\n\u001b[0;32m     13\u001b[0m         \u001b[0mloss\u001b[0m \u001b[1;33m=\u001b[0m \u001b[0mcriterion\u001b[0m\u001b[1;33m(\u001b[0m\u001b[0moutputs\u001b[0m\u001b[1;33m,\u001b[0m \u001b[0mlabels\u001b[0m\u001b[1;33m)\u001b[0m\u001b[1;33m\u001b[0m\u001b[1;33m\u001b[0m\u001b[0m\n\u001b[1;32m---> 14\u001b[1;33m         \u001b[0mloss\u001b[0m\u001b[1;33m.\u001b[0m\u001b[0mbackward\u001b[0m\u001b[1;33m(\u001b[0m\u001b[1;33m)\u001b[0m\u001b[1;33m\u001b[0m\u001b[1;33m\u001b[0m\u001b[0m\n\u001b[0m\u001b[0;32m     15\u001b[0m         \u001b[0moptimizer\u001b[0m\u001b[1;33m.\u001b[0m\u001b[0mstep\u001b[0m\u001b[1;33m(\u001b[0m\u001b[1;33m)\u001b[0m\u001b[1;33m\u001b[0m\u001b[1;33m\u001b[0m\u001b[0m\n\u001b[0;32m     16\u001b[0m \u001b[1;33m\u001b[0m\u001b[0m\n",
      "\u001b[1;32m~\\Anaconda3\\lib\\site-packages\\torch\\tensor.py\u001b[0m in \u001b[0;36mbackward\u001b[1;34m(self, gradient, retain_graph, create_graph)\u001b[0m\n\u001b[0;32m    105\u001b[0m                 \u001b[0mproducts\u001b[0m\u001b[1;33m.\u001b[0m \u001b[0mDefaults\u001b[0m \u001b[0mto\u001b[0m\u001b[0;31m \u001b[0m\u001b[0;31m`\u001b[0m\u001b[0;31m`\u001b[0m\u001b[1;32mFalse\u001b[0m\u001b[0;31m`\u001b[0m\u001b[0;31m`\u001b[0m\u001b[1;33m.\u001b[0m\u001b[1;33m\u001b[0m\u001b[1;33m\u001b[0m\u001b[0m\n\u001b[0;32m    106\u001b[0m         \"\"\"\n\u001b[1;32m--> 107\u001b[1;33m         \u001b[0mtorch\u001b[0m\u001b[1;33m.\u001b[0m\u001b[0mautograd\u001b[0m\u001b[1;33m.\u001b[0m\u001b[0mbackward\u001b[0m\u001b[1;33m(\u001b[0m\u001b[0mself\u001b[0m\u001b[1;33m,\u001b[0m \u001b[0mgradient\u001b[0m\u001b[1;33m,\u001b[0m \u001b[0mretain_graph\u001b[0m\u001b[1;33m,\u001b[0m \u001b[0mcreate_graph\u001b[0m\u001b[1;33m)\u001b[0m\u001b[1;33m\u001b[0m\u001b[1;33m\u001b[0m\u001b[0m\n\u001b[0m\u001b[0;32m    108\u001b[0m \u001b[1;33m\u001b[0m\u001b[0m\n\u001b[0;32m    109\u001b[0m     \u001b[1;32mdef\u001b[0m \u001b[0mregister_hook\u001b[0m\u001b[1;33m(\u001b[0m\u001b[0mself\u001b[0m\u001b[1;33m,\u001b[0m \u001b[0mhook\u001b[0m\u001b[1;33m)\u001b[0m\u001b[1;33m:\u001b[0m\u001b[1;33m\u001b[0m\u001b[1;33m\u001b[0m\u001b[0m\n",
      "\u001b[1;32m~\\Anaconda3\\lib\\site-packages\\torch\\autograd\\__init__.py\u001b[0m in \u001b[0;36mbackward\u001b[1;34m(tensors, grad_tensors, retain_graph, create_graph, grad_variables)\u001b[0m\n\u001b[0;32m     91\u001b[0m     Variable._execution_engine.run_backward(\n\u001b[0;32m     92\u001b[0m         \u001b[0mtensors\u001b[0m\u001b[1;33m,\u001b[0m \u001b[0mgrad_tensors\u001b[0m\u001b[1;33m,\u001b[0m \u001b[0mretain_graph\u001b[0m\u001b[1;33m,\u001b[0m \u001b[0mcreate_graph\u001b[0m\u001b[1;33m,\u001b[0m\u001b[1;33m\u001b[0m\u001b[1;33m\u001b[0m\u001b[0m\n\u001b[1;32m---> 93\u001b[1;33m         allow_unreachable=True)  # allow_unreachable flag\n\u001b[0m\u001b[0;32m     94\u001b[0m \u001b[1;33m\u001b[0m\u001b[0m\n\u001b[0;32m     95\u001b[0m \u001b[1;33m\u001b[0m\u001b[0m\n",
      "\u001b[1;31mKeyboardInterrupt\u001b[0m: "
     ]
    }
   ],
   "source": [
    "for epoch in range(8):  # loop over the dataset multiple times\n",
    "\n",
    "    running_loss = 0.0\n",
    "    for i, data in enumerate(trainloader, 0):\n",
    "        # get the inputs; data is a list of [inputs, labels]\n",
    "        inputs, labels = data\n",
    "        inputs, labels = inputs.to(device), labels.to(device)\n",
    "        # zero the parameter gradients\n",
    "        optimizer.zero_grad()\n",
    "\n",
    "        # forward + backward + optimize\n",
    "        outputs = net(inputs)\n",
    "        loss = criterion(outputs, labels)\n",
    "        loss.backward()\n",
    "        optimizer.step()\n",
    "\n",
    "        # print statistics\n",
    "        running_loss += loss.item()\n",
    "        if i % 2000 == 1999:    # print every 2000 mini-batches\n",
    "            print('[%d, %5d] loss: %.3f' %\n",
    "                  (epoch + 1, i + 1, running_loss / 2000))\n",
    "            running_loss = 0.0\n",
    "\n",
    "print('Finished Training')"
   ]
  },
  {
   "cell_type": "code",
   "execution_count": 47,
   "metadata": {},
   "outputs": [
    {
     "data": {
      "image/png": "[encoded data removed]",
      "text/plain": [
       "<Figure size 432x288 with 1 Axes>"
      ]
     },
     "metadata": {
      "needs_background": "light"
     },
     "output_type": "display_data"
    },
    {
     "name": "stdout",
     "output_type": "stream",
     "text": [
      "GroundTruth:    cat  ship  ship plane\n"
     ]
    },
    {
     "data": {
      "text/plain": [
       "IncompatibleKeys(missing_keys=[], unexpected_keys=[])"
      ]
     },
     "execution_count": 47,
     "metadata": {},
     "output_type": "execute_result"
    }
   ],
   "source": [
    "PATH = './cifar_net.pth'\n",
    "torch.save(net.state_dict(), PATH)\n",
    "dataiter = iter(testloader)\n",
    "images, labels = dataiter.next()\n",
    "\n",
    "\n",
    "# print images\n",
    "imshow(torchvision.utils.make_grid(images))\n",
    "print('GroundTruth: ', ' '.join('%5s' % classes[labels[j]] for j in range(4)))\n",
    "net = Net()\n",
    "net.load_state_dict(torch.load(PATH))"
   ]
  },
  {
   "cell_type": "code",
   "execution_count": 48,
   "metadata": {},
   "outputs": [
    {
     "data": {
      "image/png": "[encoded data removed]",
      "text/plain": [
       "<Figure size 432x288 with 1 Axes>"
      ]
     },
     "metadata": {
      "needs_background": "light"
     },
     "output_type": "display_data"
    },
    {
     "name": "stdout",
     "output_type": "stream",
     "text": [
      "GroundTruth:    cat  ship  ship plane\n"
     ]
    },
    {
     "data": {
      "text/plain": [
       "IncompatibleKeys(missing_keys=[], unexpected_keys=[])"
      ]
     },
     "execution_count": 48,
     "metadata": {},
     "output_type": "execute_result"
    }
   ],
   "source": [
    "dataiter = iter(testloader)\n",
    "images, labels = dataiter.next()\n",
    "\n",
    "# print images\n",
    "imshow(torchvision.utils.make_grid(images))\n",
    "print('GroundTruth: ', ' '.join('%5s' % classes[labels[j]] for j in range(4)))\n",
    "net = Net()\n",
    "net.load_state_dict(torch.load(PATH))"
   ]
  },
  {
   "cell_type": "code",
   "execution_count": 49,
   "metadata": {},
   "outputs": [
    {
     "data": {
      "text/plain": [
       "IncompatibleKeys(missing_keys=[], unexpected_keys=[])"
      ]
     },
     "execution_count": 49,
     "metadata": {},
     "output_type": "execute_result"
    }
   ],
   "source": [
    "net = Net()\n",
    "net.load_state_dict(torch.load(PATH))"
   ]
  },
  {
   "cell_type": "code",
   "execution_count": null,
   "metadata": {},
   "outputs": [],
   "source": [
    "total = 0\n",
    "correct = 0\n",
    "with torch.no_grad():\n",
    "    for data in testloader:\n",
    "        images, labels = data\n",
    "        outputs = net(images)\n",
    "        _, predicted = torch.max(outputs.data, 1)\n",
    "        total += labels.size(0)\n",
    "        correct += (predicted == labels).sum().item()\n",
    "\n",
    "print('Accuracy of the network on the 10000 test images: %d %%' % (\n",
    "    100 * correct / total))"
   ]
  },
  {
   "cell_type": "code",
   "execution_count": null,
   "metadata": {},
   "outputs": [],
   "source": [
    "class_correct = list(0. for i in range(10))\n",
    "class_total = list(0. for i in range(10))\n",
    "with torch.no_grad():\n",
    "    for data in testloader:\n",
    "        images, labels = data\n",
    "        outputs = net(images)\n",
    "        _, predicted = torch.max(outputs, 1)\n",
    "        c = (predicted == labels).squeeze()\n",
    "        for i in range(4):\n",
    "            label = labels[i]\n",
    "            class_correct[label] += c[i].item()\n",
    "            class_total[label] += 1\n",
    "\n",
    "\n",
    "for i in range(10):\n",
    "    print('Accuracy of %5s : %2d %%' % (\n",
    "        classes[i], 100 * class_correct[i] / class_total[i]))"
   ]
  },
  {
   "cell_type": "code",
   "execution_count": 26,
   "metadata": {},
   "outputs": [
    {
     "data": {
      "text/plain": [
       "Parameter containing:\n",
       "tensor([[[[-3.2993e-02, -2.3405e-03,  2.1536e-02, -9.9217e-02,  3.8875e-02],\n",
       "          [-1.4608e-01, -1.2142e-01, -1.3833e-01, -1.1703e-01, -8.1771e-02],\n",
       "          [-4.3233e-02, -8.1761e-02, -9.9388e-02, -6.4674e-02,  2.0620e-02],\n",
       "          [ 1.0191e-01,  8.5324e-02,  1.0056e-01,  7.8439e-02,  1.3406e-01],\n",
       "          [ 1.8527e-01,  2.3297e-01,  2.0644e-01,  8.7565e-02,  2.3663e-01]],\n",
       "\n",
       "         [[ 1.1522e-02,  6.3033e-02,  2.1163e-01, -1.0223e-03, -4.1490e-02],\n",
       "          [ 1.8605e-01,  5.1929e-02, -1.4299e-01, -1.6272e-01, -1.0454e-01],\n",
       "          [ 2.4002e-01,  1.9913e-01, -1.8517e-01, -1.8084e-01, -1.1473e-01],\n",
       "          [ 9.6181e-02,  1.3058e-01,  7.5518e-03, -6.7408e-02, -2.2133e-01],\n",
       "          [ 1.0673e-01,  1.1112e-02,  6.9191e-02, -7.7813e-02, -1.6184e-01]],\n",
       "\n",
       "         [[ 2.8479e-01,  4.1621e-01,  2.1255e-01,  5.1796e-02, -2.4858e-01],\n",
       "          [ 5.3052e-01,  4.3750e-01,  1.1120e-01, -1.1682e-01, -3.2388e-01],\n",
       "          [ 5.1614e-01,  3.1956e-01,  3.1955e-02, -1.1916e-01, -4.0075e-01],\n",
       "          [ 2.6108e-01,  2.8223e-01,  8.7044e-02, -2.8723e-01, -3.7793e-01],\n",
       "          [ 7.1927e-02,  8.6969e-02, -1.0833e-01, -2.4642e-01, -2.9767e-01]]],\n",
       "\n",
       "\n",
       "        [[[-1.6857e-01,  7.9235e-02,  2.4398e-03,  7.9397e-01,  3.0771e-01],\n",
       "          [ 2.6820e-01,  7.9253e-01,  8.9202e-01,  6.8289e-01, -1.6030e-01],\n",
       "          [ 4.2618e-01,  1.5216e-02, -3.9173e-01, -9.2580e-01, -6.4460e-01],\n",
       "          [-7.6784e-03, -6.3002e-01, -5.7007e-01, -2.7601e-01,  1.5155e-01],\n",
       "          [-2.3371e-01, -4.2604e-02,  8.0165e-03,  4.6014e-03, -9.9877e-02]],\n",
       "\n",
       "         [[-3.3776e-01, -3.6827e-01, -2.9015e-01,  3.8918e-01,  7.0457e-03],\n",
       "          [-8.9541e-02,  5.7126e-01,  5.8408e-01,  3.6497e-01, -2.8421e-01],\n",
       "          [ 2.0011e-01,  4.9855e-02, -4.7928e-01, -8.6106e-01, -6.4363e-01],\n",
       "          [-8.1585e-02, -5.0359e-01, -2.9265e-01, -4.4612e-02,  4.8120e-01],\n",
       "          [-1.7216e-01,  1.3609e-01,  4.0368e-01,  3.7710e-01,  1.4875e-01]],\n",
       "\n",
       "         [[-3.4409e-01, -2.1789e-01, -3.7945e-01,  2.2697e-01,  7.4137e-02],\n",
       "          [-1.4185e-02,  4.4061e-01,  6.4639e-01,  6.0230e-01, -2.7118e-01],\n",
       "          [ 3.6334e-01,  7.1141e-02, -3.2077e-01, -8.6041e-01, -4.4240e-01],\n",
       "          [ 3.8691e-02, -3.0625e-01, -1.5115e-01,  5.8526e-02,  4.0050e-01],\n",
       "          [-5.5175e-02,  3.1754e-02,  2.8641e-01,  3.0649e-01,  9.5750e-02]]],\n",
       "\n",
       "\n",
       "        [[[-1.1808e-01, -1.4323e-01,  7.3343e-02, -8.6732e-02,  2.7585e-01],\n",
       "          [-2.1230e-01,  1.3045e-01, -5.1601e-02, -4.2917e-01,  5.5061e-01],\n",
       "          [-3.3586e-01,  5.1447e-01,  2.2046e-01, -1.1786e+00,  7.0058e-01],\n",
       "          [-3.2349e-01,  4.4443e-01,  5.3185e-01, -1.1901e+00,  4.4488e-01],\n",
       "          [-2.5183e-01,  3.1301e-01,  7.1388e-01, -6.7390e-01, -4.0377e-02]],\n",
       "\n",
       "         [[ 3.1788e-01,  9.9029e-02, -2.3859e-01, -4.9156e-01,  2.8118e-01],\n",
       "          [ 1.4655e-01,  4.9128e-01, -1.4336e-01, -8.3533e-01,  4.9298e-01],\n",
       "          [-5.9023e-02,  6.9280e-01,  1.6062e-01, -1.3830e+00,  6.1847e-01],\n",
       "          [-1.7013e-01,  5.4430e-01,  4.0199e-01, -1.4145e+00,  4.0433e-01],\n",
       "          [ 2.3754e-02,  4.4566e-01,  5.5483e-01, -9.1525e-01,  1.8957e-01]],\n",
       "\n",
       "         [[-1.0144e-01,  7.5663e-02,  5.7640e-02, -2.6442e-01,  1.0551e-01],\n",
       "          [-1.6223e-01,  3.9530e-01,  1.2100e-02, -5.2526e-01,  4.9101e-01],\n",
       "          [-3.0487e-01,  5.0738e-01,  3.9473e-01, -9.6024e-01,  6.6550e-01],\n",
       "          [-3.3572e-01,  4.0009e-01,  5.6938e-01, -1.1364e+00,  5.5269e-01],\n",
       "          [-2.2264e-01,  2.8340e-01,  4.3648e-01, -6.9897e-01,  9.9446e-02]]],\n",
       "\n",
       "\n",
       "        [[[ 4.8380e-01,  6.9733e-01,  5.2831e-01,  3.1271e-01,  1.1008e-01],\n",
       "          [-1.3665e-02,  7.2871e-01,  7.7075e-01,  8.3938e-01,  5.0564e-01],\n",
       "          [-5.5990e-01, -2.0445e-01, -1.1354e-02,  2.4847e-01,  1.7733e-01],\n",
       "          [-3.8427e-01, -3.4176e-01, -1.9120e-01, -1.1234e-01, -2.2994e-01],\n",
       "          [-6.5327e-01, -5.5713e-01, -5.1528e-01, -3.1605e-01, -2.4721e-01]],\n",
       "\n",
       "         [[-2.5554e-01, -1.0180e-01, -4.1428e-02, -3.5635e-02, -3.7231e-01],\n",
       "          [-4.0031e-01, -8.3939e-02,  9.1028e-02,  3.5352e-01,  2.5634e-01],\n",
       "          [-4.5679e-01, -6.0183e-01, -4.9952e-01, -2.1120e-02,  7.8078e-02],\n",
       "          [-3.1240e-02, -2.1396e-01, -3.9029e-01, -2.0347e-01, -3.6536e-02],\n",
       "          [ 7.6148e-02,  8.4181e-02, -5.2867e-02,  1.2054e-01,  1.2386e-01]],\n",
       "\n",
       "         [[ 4.1394e-02, -2.2327e-03, -1.8126e-01, -1.1260e-01, -3.3498e-01],\n",
       "          [-2.1832e-01,  5.5791e-02,  8.8924e-02,  2.2930e-01,  3.2169e-02],\n",
       "          [-2.0191e-01, -2.9917e-01, -3.2274e-01, -2.2832e-01,  5.7086e-02],\n",
       "          [ 3.6955e-01,  2.1783e-01,  1.3797e-02, -3.2104e-02, -5.0083e-02],\n",
       "          [ 5.0542e-01,  4.0909e-01,  4.3177e-01,  4.1532e-01,  1.8580e-01]]],\n",
       "\n",
       "\n",
       "        [[[-7.0771e-02, -5.5715e-02, -9.2282e-02, -1.1944e-01, -5.0343e-02],\n",
       "          [ 4.7303e-02, -1.6104e-01, -2.9136e-01, -5.1886e-02, -1.3708e-01],\n",
       "          [ 3.6430e-02, -2.2559e-01, -1.6465e-01, -2.5825e-01, -2.2809e-01],\n",
       "          [-2.5532e-01, -3.8653e-01, -4.3120e-01, -3.8249e-01, -2.5614e-01],\n",
       "          [-1.0050e-01, -2.9755e-01, -2.7846e-01, -3.9315e-01, -3.8088e-01]],\n",
       "\n",
       "         [[-3.6765e-01, -2.5256e-01, -2.6055e-01, -3.9376e-02, -3.0335e-01],\n",
       "          [ 1.4698e-01, -2.2897e-02,  1.0708e-01,  1.5214e-01, -1.2764e-02],\n",
       "          [ 8.4202e-02,  1.7650e-01,  2.7007e-01,  3.3026e-01,  2.9404e-01],\n",
       "          [-5.3990e-02, -7.5967e-03,  2.9839e-02,  5.6814e-02,  4.2263e-02],\n",
       "          [-1.4193e-01, -5.1709e-02, -1.0210e-01,  1.0095e-01, -1.7623e-01]],\n",
       "\n",
       "         [[-2.3040e-01, -2.6038e-01,  6.2991e-04, -1.3605e-01, -1.9901e-01],\n",
       "          [ 1.9818e-01,  4.0111e-01,  4.6636e-01,  2.6180e-01,  1.6408e-01],\n",
       "          [ 3.3288e-01,  4.2750e-01,  4.5158e-01,  5.6716e-01,  4.0600e-01],\n",
       "          [ 1.3803e-01,  2.7838e-01,  3.2209e-01,  1.9338e-01,  1.5632e-01],\n",
       "          [ 6.9108e-02,  2.4030e-01,  5.5872e-02,  1.0382e-01, -1.8649e-01]]],\n",
       "\n",
       "\n",
       "        [[[ 1.2582e-01, -2.9438e-01, -5.2135e-02, -1.8651e-01, -2.3655e-01],\n",
       "          [-3.8042e-01, -4.8238e-01, -4.4085e-01, -4.4214e-01, -4.5179e-01],\n",
       "          [-1.2552e-01, -3.9487e-01, -3.2709e-01, -3.6381e-01, -4.8921e-01],\n",
       "          [ 6.1614e-01,  5.9978e-01,  8.6987e-01,  7.6018e-01,  5.6625e-01],\n",
       "          [ 1.5558e-01,  1.1476e-02,  2.9068e-01,  2.7480e-01,  2.7815e-01]],\n",
       "\n",
       "         [[ 4.0535e-01,  3.0329e-01,  2.0921e-01,  3.6340e-01,  1.6886e-01],\n",
       "          [-1.3887e-01, -1.2950e-01, -6.2622e-02,  1.5408e-01, -9.4873e-02],\n",
       "          [-3.4734e-01, -5.0997e-01, -3.7320e-01, -2.1307e-01, -3.4871e-01],\n",
       "          [ 3.8256e-01,  2.0329e-01,  2.0447e-01,  3.1451e-01,  6.6757e-03],\n",
       "          [-2.7357e-01, -3.6475e-01, -3.4582e-01, -3.4099e-01, -5.1502e-01]],\n",
       "\n",
       "         [[ 3.4625e-01,  1.4047e-01,  2.9436e-01,  3.6381e-01,  3.7629e-01],\n",
       "          [ 2.0188e-01,  2.4509e-01,  3.0835e-01,  2.6552e-01,  2.8258e-01],\n",
       "          [-2.0874e-01, -1.9148e-01, -1.9535e-01, -1.4964e-01, -2.0092e-03],\n",
       "          [ 2.8465e-01,  2.2989e-01,  4.4171e-01,  2.6749e-01,  2.9331e-01],\n",
       "          [-2.4999e-01, -4.9837e-01, -4.3822e-01, -3.8482e-01, -3.5343e-01]]],\n",
       "\n",
       "\n",
       "        [[[-2.0804e-01, -4.3940e-01, -5.1671e-01, -4.6747e-01, -3.7623e-01],\n",
       "          [-3.3526e-01, -6.0591e-01, -5.7993e-01, -3.0185e-01, -2.3166e-01],\n",
       "          [ 2.0206e-02,  1.4558e-01,  2.7697e-01,  2.1948e-01,  1.9633e-01],\n",
       "          [ 2.5984e-01,  3.2586e-01,  2.6017e-01,  3.1744e-01,  4.0862e-01],\n",
       "          [ 3.7297e-01,  3.1311e-01,  2.9819e-01,  2.7342e-01,  4.2503e-01]],\n",
       "\n",
       "         [[ 1.9747e-02, -5.8054e-02, -1.5461e-01, -9.3680e-02,  9.0298e-02],\n",
       "          [-7.7459e-02, -3.8561e-01, -2.0237e-01, -1.4309e-01, -7.5999e-02],\n",
       "          [ 2.2674e-01,  2.6161e-01,  3.1004e-01,  1.2642e-01, -7.3876e-03],\n",
       "          [ 1.7351e-01,  1.2335e-01,  2.2701e-01,  6.8342e-02, -1.2446e-01],\n",
       "          [ 5.2159e-02,  2.2480e-02,  6.1361e-02,  9.4574e-02, -1.3715e-01]],\n",
       "\n",
       "         [[ 1.3977e-01,  1.4771e-02,  8.8941e-02,  1.0461e-01,  1.2224e-01],\n",
       "          [ 4.9590e-02, -3.4244e-01, -2.4389e-01, -1.3067e-01,  9.3752e-02],\n",
       "          [ 4.9818e-02,  1.7179e-01,  1.1244e-01,  2.8988e-01,  2.1983e-01],\n",
       "          [ 8.7085e-03, -8.4914e-02,  1.8652e-02, -4.0704e-02,  5.7115e-02],\n",
       "          [-6.3333e-02, -2.6830e-02, -1.2670e-02,  2.1780e-02, -1.1172e-01]]],\n",
       "\n",
       "\n",
       "        [[[ 2.2660e-02,  3.1956e-01,  5.9016e-01,  1.1352e-03, -4.4343e-01],\n",
       "          [ 1.3565e-01,  7.7582e-01,  1.9648e-02, -6.4152e-01, -3.3475e-01],\n",
       "          [ 6.4868e-01,  5.3782e-01, -8.0065e-01, -4.6023e-01,  1.9667e-03],\n",
       "          [ 6.7845e-01, -5.0281e-01, -8.0578e-01,  2.6557e-01,  9.9749e-02],\n",
       "          [ 1.1154e-01, -5.7521e-01,  3.1491e-02,  2.3220e-01, -2.2175e-01]],\n",
       "\n",
       "         [[-9.0128e-02,  1.1095e-01,  2.2950e-01, -2.6670e-01, -4.4718e-01],\n",
       "          [ 4.3084e-02,  4.6172e-01, -2.8015e-01, -5.4265e-01,  7.4705e-02],\n",
       "          [ 3.1558e-01,  1.3026e-01, -9.7700e-01, -2.8774e-01,  3.0672e-01],\n",
       "          [ 2.4362e-01, -7.3018e-01, -7.2999e-01,  5.5082e-01,  2.5731e-01],\n",
       "          [-1.7632e-01, -6.3681e-01,  1.6715e-01,  4.2450e-01, -1.2086e-01]],\n",
       "\n",
       "         [[-3.2097e-01, -5.3029e-02,  2.2694e-01,  3.1685e-02, -9.6971e-02],\n",
       "          [-1.6560e-01,  3.6204e-01, -1.3346e-01, -4.4684e-01,  1.3141e-01],\n",
       "          [ 3.1394e-01,  1.9535e-01, -6.5038e-01, -1.3235e-01,  3.9863e-01],\n",
       "          [ 2.8227e-01, -3.0543e-01, -3.8730e-01,  4.2129e-01,  2.6827e-01],\n",
       "          [ 2.8356e-02, -1.7863e-01,  3.6590e-01,  4.2387e-01, -1.6323e-01]]],\n",
       "\n",
       "\n",
       "        [[[-5.2999e-02, -2.0591e-01, -2.7361e-01, -2.6499e-01, -5.9682e-02],\n",
       "          [-3.1443e-01, -3.3754e-01, -3.9525e-01, -9.8686e-02, -2.9854e-02],\n",
       "          [-1.4308e-01, -2.5299e-01, -2.3290e-01, -6.0704e-02, -2.8293e-03],\n",
       "          [-9.6632e-02, -1.6724e-01, -1.3506e-01, -1.2608e-01,  6.7179e-02],\n",
       "          [ 2.8875e-01,  1.8020e-01, -1.5077e-01, -7.5811e-02, -6.5984e-02]],\n",
       "\n",
       "         [[ 4.6607e-02,  1.4302e-02, -1.3774e-02, -4.5757e-03,  1.4495e-02],\n",
       "          [-1.8248e-01, -1.5201e-01, -2.6915e-02,  2.7764e-02,  1.9805e-01],\n",
       "          [-2.4537e-01, -6.9501e-02,  1.9088e-02,  1.1214e-01,  2.6883e-01],\n",
       "          [-2.6393e-01, -1.5313e-01, -9.2731e-03,  8.7300e-02,  1.4263e-01],\n",
       "          [-6.6871e-02, -1.1605e-01, -9.7514e-03, -9.8160e-02,  1.2665e-01]],\n",
       "\n",
       "         [[ 1.7632e-01,  4.2609e-01,  4.2037e-01,  2.8273e-01, -4.5552e-02],\n",
       "          [ 7.3990e-02,  1.7365e-01,  3.4775e-01,  2.9607e-01,  3.2626e-01],\n",
       "          [-3.5544e-02,  1.0921e-01,  2.3866e-01,  4.7200e-01,  4.2651e-01],\n",
       "          [ 6.5040e-02,  2.4123e-01,  1.3615e-01,  2.7880e-01,  1.9390e-01],\n",
       "          [-1.7776e-01, -5.8330e-02,  6.1414e-02,  7.9115e-02, -4.2224e-02]]],\n",
       "\n",
       "\n",
       "        [[[-6.9745e-02, -4.0079e-01, -1.0491e+00,  3.9947e-01, -2.7539e-01],\n",
       "          [-1.4671e-03,  1.8057e-01, -4.8329e-02,  3.7848e-01, -5.0928e-01],\n",
       "          [-7.5227e-01,  2.2777e-01,  2.0223e-01, -3.6150e-01, -3.7834e-01],\n",
       "          [-1.4160e-01, -3.4078e-01, -6.4129e-01, -2.6907e-01,  3.3661e-01],\n",
       "          [ 4.9045e-01,  1.3492e-01,  1.5783e-02,  2.2001e-01,  7.0306e-02]],\n",
       "\n",
       "         [[ 4.9837e-01,  2.7495e-01, -6.2866e-01,  5.5030e-01,  2.7531e-02],\n",
       "          [ 4.7209e-01,  7.6624e-01,  5.6508e-01,  9.9071e-01, -1.4731e-01],\n",
       "          [-2.5640e-01,  6.2751e-01,  8.2152e-01,  6.6320e-02, -1.5637e-01],\n",
       "          [ 9.8075e-02, -1.8018e-01, -2.2630e-01, -1.2988e-01,  5.3135e-01],\n",
       "          [ 3.1368e-01,  1.5517e-01,  1.7843e-01,  6.3815e-02, -1.4265e-01]],\n",
       "\n",
       "         [[-1.4636e-01, -4.0305e-01, -1.0498e+00,  1.3202e-01, -9.6471e-03],\n",
       "          [ 1.3165e-01,  2.0008e-01, -1.3636e-01,  4.9241e-01, -2.2025e-01],\n",
       "          [-6.0844e-01,  2.4367e-01,  2.0723e-01, -2.1970e-01, -2.4475e-01],\n",
       "          [-2.7698e-01, -3.3890e-01, -5.5522e-01, -1.0912e-01,  4.4599e-01],\n",
       "          [ 7.9395e-02,  2.5969e-03,  2.5118e-02,  7.8074e-02, -1.5798e-01]]],\n",
       "\n",
       "\n",
       "        [[[-1.6602e-01, -5.0981e-03,  3.0730e-01, -1.4704e-01,  7.7177e-02],\n",
       "          [-2.1134e-02, -1.2346e-02, -3.9355e-01,  1.0165e-02,  3.8883e-01],\n",
       "          [ 1.3176e-01, -3.3043e-01, -5.0756e-01,  3.6379e-01,  5.2557e-01],\n",
       "          [-3.2351e-01, -4.1182e-01,  3.4536e-01,  4.1704e-01,  9.5192e-02],\n",
       "          [-2.3856e-01,  1.5845e-01,  4.0826e-01, -1.4520e-01, -3.0433e-01]],\n",
       "\n",
       "         [[ 6.0554e-02, -2.1920e-02,  1.5528e-01, -2.1021e-01,  5.8178e-02],\n",
       "          [ 7.8113e-02, -1.2842e-01, -4.5860e-01, -2.5324e-02,  4.3915e-01],\n",
       "          [ 2.5448e-01, -5.1741e-01, -4.6999e-01,  3.0306e-01,  4.1385e-01],\n",
       "          [-2.5507e-01, -3.0676e-01,  1.0191e-01,  4.6986e-01, -1.3134e-02],\n",
       "          [-2.3405e-01, -4.1541e-02,  2.4878e-01,  1.0852e-02, -3.5330e-02]],\n",
       "\n",
       "         [[-1.1086e-01, -1.1558e-01, -3.1427e-02, -2.3188e-01,  5.7390e-02],\n",
       "          [ 9.5740e-02, -2.0281e-01, -5.9386e-01, -4.9729e-02,  4.2464e-01],\n",
       "          [ 8.0667e-02, -6.3894e-01, -5.6337e-01,  4.3495e-01,  6.3977e-01],\n",
       "          [-2.8539e-01, -4.5092e-01,  2.3552e-01,  3.2651e-01,  1.9422e-01],\n",
       "          [ 5.6242e-02,  1.0060e-01,  5.0697e-01,  1.3797e-01,  1.4800e-01]]],\n",
       "\n",
       "\n",
       "        [[[-4.7901e-03, -5.1581e-02,  1.9221e-01,  7.0053e-01,  4.3339e-02],\n",
       "          [ 1.1911e-01, -4.2176e-01, -9.1230e-01, -3.1006e-01,  6.0678e-01],\n",
       "          [ 3.8709e-01,  5.3211e-01, -3.7363e-01, -1.1286e+00, -2.0097e-01],\n",
       "          [-5.6670e-02,  5.6999e-01,  8.8032e-01,  9.5333e-03, -3.7501e-01],\n",
       "          [-2.0403e-01, -4.9789e-01,  2.0331e-01,  3.6309e-01, -1.7180e-03]],\n",
       "\n",
       "         [[-2.0143e-01, -1.8314e-01, -8.5390e-03,  5.0726e-01, -2.8114e-02],\n",
       "          [-1.4888e-02, -3.4086e-01, -6.2472e-01, -1.6276e-01,  7.5471e-01],\n",
       "          [ 4.8654e-01,  4.8540e-01, -1.8095e-01, -1.1126e+00, -2.3187e-01],\n",
       "          [-2.6216e-01,  4.9411e-01,  9.4429e-01,  5.8795e-02, -5.7449e-01],\n",
       "          [-1.4595e-01, -4.0940e-01,  1.1887e-01,  5.1506e-01, -1.3869e-01]],\n",
       "\n",
       "         [[-1.7734e-01, -2.4787e-01, -3.8918e-02,  3.9643e-01,  2.1570e-01],\n",
       "          [ 1.7518e-01, -2.6987e-01, -7.2535e-01, -1.0852e-01,  7.1954e-01],\n",
       "          [ 3.3939e-01,  3.4622e-01, -2.9608e-01, -1.1584e+00, -2.8447e-01],\n",
       "          [-6.7004e-02,  4.3889e-01,  8.1585e-01,  4.4560e-02, -5.7778e-01],\n",
       "          [-6.9942e-03, -2.0562e-01,  2.3055e-01,  4.6962e-01, -2.2608e-02]]]],\n",
       "       requires_grad=True)"
      ]
     },
     "execution_count": 26,
     "metadata": {},
     "output_type": "execute_result"
    }
   ],
   "source": [
    "net.conv1.weight"
   ]
  },
  {
   "cell_type": "code",
   "execution_count": 2,
   "metadata": {},
   "outputs": [],
   "source": [
    "t = torch.tensor([1,2,3])"
   ]
  },
  {
   "cell_type": "code",
   "execution_count": 3,
   "metadata": {},
   "outputs": [
    {
     "data": {
      "text/plain": [
       "tensor([1, 2, 3], device='cuda:0')"
      ]
     },
     "execution_count": 3,
     "metadata": {},
     "output_type": "execute_result"
    }
   ],
   "source": [
    "t = t.cuda()\n",
    "t"
   ]
  },
  {
   "cell_type": "code",
   "execution_count": 4,
   "metadata": {},
   "outputs": [
    {
     "ename": "TypeError",
     "evalue": "'torch.device' object is not callable",
     "output_type": "error",
     "traceback": [
      "\u001b[1;31m---------------------------------------------------------------------------\u001b[0m",
      "\u001b[1;31mTypeError\u001b[0m                                 Traceback (most recent call last)",
      "\u001b[1;32m<ipython-input-4-dc0ed7956193>\u001b[0m in \u001b[0;36m<module>\u001b[1;34m\u001b[0m\n\u001b[1;32m----> 1\u001b[1;33m \u001b[0mt\u001b[0m\u001b[1;33m.\u001b[0m\u001b[0mdevice\u001b[0m\u001b[1;33m(\u001b[0m\u001b[1;33m)\u001b[0m\u001b[1;33m\u001b[0m\u001b[1;33m\u001b[0m\u001b[0m\n\u001b[0m",
      "\u001b[1;31mTypeError\u001b[0m: 'torch.device' object is not callable"
     ]
    }
   ],
   "source": [
    "t.device()"
   ]
  },
  {
   "cell_type": "code",
   "execution_count": 5,
   "metadata": {},
   "outputs": [
    {
     "data": {
      "text/plain": [
       "True"
      ]
     },
     "execution_count": 5,
     "metadata": {},
     "output_type": "execute_result"
    }
   ],
   "source": [
    "torch.cuda.is_available()"
   ]
  },
  {
   "cell_type": "code",
   "execution_count": 6,
   "metadata": {},
   "outputs": [
    {
     "data": {
      "text/plain": [
       "0"
      ]
     },
     "execution_count": 6,
     "metadata": {},
     "output_type": "execute_result"
    }
   ],
   "source": [
    "torch.cuda.current_device()"
   ]
  },
  {
   "cell_type": "code",
   "execution_count": 7,
   "metadata": {},
   "outputs": [
    {
     "data": {
      "text/plain": [
       "'GeForce GTX 1070 Ti'"
      ]
     },
     "execution_count": 7,
     "metadata": {},
     "output_type": "execute_result"
    }
   ],
   "source": [
    "torch.cuda.get_device_name()"
   ]
  },
  {
   "cell_type": "code",
   "execution_count": null,
   "metadata": {},
   "outputs": [],
   "source": []
  }
 ],
 "metadata": {
  "kernelspec": {
   "display_name": "Python 3",
   "language": "python",
   "name": "python3"
  },
  "language_info": {
   "codemirror_mode": {
    "name": "ipython",
    "version": 3
   },
   "file_extension": ".py",
   "mimetype": "text/x-python",
   "name": "python",
   "nbconvert_exporter": "python",
   "pygments_lexer": "ipython3",
   "version": "3.7.2"
  }
 },
 "nbformat": 4,
 "nbformat_minor": 2
}
