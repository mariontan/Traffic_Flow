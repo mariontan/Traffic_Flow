{
 "cells": [
  {
   "cell_type": "code",
   "execution_count": 4,
   "metadata": {},
   "outputs": [
    {
     "name": "stdout",
     "output_type": "stream",
     "text": [
      "{'batch_size': 6, 'model_def': 'D:/Ivan/Test_data/IvanMadeDataSet/Yolo_front/config/yolov3_832.cfg', 'data_config': 'D:/Ivan/Test_data/IvanMadeDataSet/Yolo_front_test/config/coco.data', 'weights_path': 'D:/Ivan/YoloCheckpoints/OID_front_1_832/70.weights', 'class_path': 'D:/Ivan/Test_data/IvanMadeDataSet/Yolo_front/config/coco.names', 'iou_thres': 0.5, 'conf_thres': 0.8, 'nms_thres': 0.5, 'n_cpu': 2, 'img_size': 832}\n",
      "Compute mAP...\n"
     ]
    },
    {
     "name": "stderr",
     "output_type": "stream",
     "text": [
      "Detecting objects: 100%|█████████████████████████████████████████████████████████████| 135/135 [01:26<00:00,  2.00it/s]\n",
      "Computing AP: 100%|██████████████████████████████████████████████████████████████████████| 1/1 [00:00<00:00,  7.35it/s]\n"
     ]
    },
    {
     "name": "stdout",
     "output_type": "stream",
     "text": [
      "Average Precisions:\n",
      "+ Class '0' (cars) - AP: 0.023193602080831703\n",
      "mAP: 0.023193602080831703\n",
      "precision: 0.008736296422197672\n",
      "recall: 0.5473908413205538 \n"
     ]
    }
   ],
   "source": [
    "from __future__ import division\n",
    "\n",
    "from models import *\n",
    "from utils.utils import *\n",
    "from utils.datasets import *\n",
    "from utils.parse_config import *\n",
    "\n",
    "import os\n",
    "import sys\n",
    "import time\n",
    "import datetime\n",
    "import argparse\n",
    "import tqdm\n",
    "import easydict\n",
    "\n",
    "import torch\n",
    "from torch.utils.data import DataLoader\n",
    "from torchvision import datasets\n",
    "from torchvision import transforms\n",
    "from torch.autograd import Variable\n",
    "import torch.optim as optim\n",
    "\n",
    "\n",
    "def evaluate(model, path, iou_thres, conf_thres, nms_thres, img_size, batch_size):\n",
    "    model.eval()\n",
    "\n",
    "    # Get dataloader\n",
    "    dataset = ListDataset(path, img_size=img_size, augment=False, multiscale=False)\n",
    "    dataloader = torch.utils.data.DataLoader(\n",
    "        dataset, batch_size=batch_size, shuffle=False, num_workers=1, collate_fn=dataset.collate_fn\n",
    "    )\n",
    "\n",
    "    Tensor = torch.cuda.FloatTensor if torch.cuda.is_available() else torch.FloatTensor\n",
    "\n",
    "    labels = []\n",
    "    sample_metrics = []  # List of tuples (TP, confs, pred)\n",
    "    for batch_i, (_, imgs, targets) in enumerate(tqdm.tqdm(dataloader, desc=\"Detecting objects\")):\n",
    "\n",
    "        # Extract labels\n",
    "        labels += targets[:, 1].tolist()\n",
    "        # Rescale target\n",
    "        targets[:, 2:] = xywh2xyxy(targets[:, 2:])\n",
    "        targets[:, 2:] *= img_size\n",
    "\n",
    "        imgs = Variable(imgs.type(Tensor), requires_grad=False)\n",
    "\n",
    "        with torch.no_grad():\n",
    "            outputs = model(imgs)\n",
    "            outputs = non_max_suppression(outputs, conf_thres=conf_thres, nms_thres=nms_thres)\n",
    "\n",
    "        sample_metrics += get_batch_statistics(outputs, targets, iou_threshold=iou_thres)\n",
    "\n",
    "    # Concatenate sample statistics\n",
    "    true_positives, pred_scores, pred_labels = [np.concatenate(x, 0) for x in list(zip(*sample_metrics))]\n",
    "    precision, recall, AP, f1, ap_class = ap_per_class(true_positives, pred_scores, pred_labels, labels)\n",
    "\n",
    "    return precision, recall, AP, f1, ap_class\n",
    "\n",
    "\n",
    "if __name__ == \"__main__\":\n",
    "    parser = argparse.ArgumentParser()\n",
    "    args = parser.parse_args(args=[])\n",
    "#     parser.add_argument(\"--batch_size\", type=int, default=8, help=\"size of each image batch\")\n",
    "#     parser.add_argument(\"--model_def\", type=str, default=\"config/yolov3.cfg\", help=\"path to model definition file\")\n",
    "#     parser.add_argument(\"--data_config\", type=str, default=\"config/coco.data\", help=\"path to data config file\")\n",
    "#     parser.add_argument(\"--weights_path\", type=str, default=\"weights/yolov3.weights\", help=\"path to weights file\")\n",
    "#     parser.add_argument(\"--class_path\", type=str, default=\"data/coco.names\", help=\"path to class label file\")\n",
    "#     parser.add_argument(\"--iou_thres\", type=float, default=0.5, help=\"iou threshold required to qualify as detected\")\n",
    "#     parser.add_argument(\"--conf_thres\", type=float, default=0.001, help=\"object confidence threshold\")\n",
    "#     parser.add_argument(\"--nms_thres\", type=float, default=0.5, help=\"iou thresshold for non-maximum suppression\")\n",
    "#     parser.add_argument(\"--n_cpu\", type=int, default=8, help=\"number of cpu threads to use during batch generation\")\n",
    "#     parser.add_argument(\"--img_size\", type=int, default=416, help=\"size of each image dimension\")\n",
    "#     opt = parser.parse_args()\n",
    "    args = easydict.EasyDict({\n",
    "        \"batch_size\": 6,\n",
    "        \"model_def\":r'D:/Ivan/Test_data/IvanMadeDataSet/Yolo_front/config/yolov3_832.cfg',\n",
    "        \"data_config\":r'D:/Ivan/Test_data/IvanMadeDataSet/Yolo_front_test/config/coco.data',\n",
    "        \"weights_path\":r'D:/Ivan/YoloCheckpoints/OID_front_1_832/70.weights',\n",
    "        \"class_path\": r'D:/Ivan/Test_data/IvanMadeDataSet/Yolo_front/config/coco.names',\n",
    "        \"iou_thres\": 0.5,\n",
    "        \"conf_thres\":0.8,\n",
    "        \"nms_thres\": 0.5,\n",
    "        \"n_cpu\": 2,\n",
    "        \"img_size\": 832\n",
    "    })\n",
    "    opt = args\n",
    "    print(opt)\n",
    "\n",
    "    device = torch.device(\"cuda\" if torch.cuda.is_available() else \"cpu\")\n",
    "######## make a new data set\n",
    "    data_config = parse_data_config(opt.data_config)\n",
    "    valid_path = data_config[\"test\"]\n",
    "#     class_names = load_classes(data_config[\"names\"])\n",
    "    class_names= load_classes(opt.class_path)\n",
    "\n",
    "    # Initiate model\n",
    "    model = Darknet(opt.model_def).to(device)\n",
    "    if opt.weights_path.endswith(\".weights\"):\n",
    "        # Load darknet weights\n",
    "        model.load_darknet_weights(opt.weights_path)\n",
    "    else:\n",
    "        # Load checkpoint weights\n",
    "        model.load_state_dict(torch.load(opt.weights_path))\n",
    "\n",
    "    print(\"Compute mAP...\")\n",
    "\n",
    "    precision, recall, AP, f1, ap_class = evaluate(\n",
    "        model,\n",
    "        path=valid_path,\n",
    "        iou_thres=opt.iou_thres,\n",
    "        conf_thres=opt.conf_thres,\n",
    "        nms_thres=opt.nms_thres,\n",
    "        img_size=opt.img_size,\n",
    "        batch_size=opt.batch_size,\n",
    "    )\n",
    "\n",
    "    print(\"Average Precisions:\")\n",
    "    for i, c in enumerate(ap_class):\n",
    "        print(f\"+ Class '{c}' ({class_names[c]}) - AP: {AP[i]}\")\n",
    "\n",
    "    print(f\"mAP: {AP.mean()}\")\n",
    "    print(f\"precision: {precision.mean()}\")\n",
    "    print(f\"recall: {recall.mean()} \")\n"
   ]
  },
  {
   "cell_type": "code",
   "execution_count": 5,
   "metadata": {},
   "outputs": [
    {
     "ename": "SyntaxError",
     "evalue": "EOL while scanning string literal (<ipython-input-5-8230e8ce4454>, line 1)",
     "output_type": "error",
     "traceback": [
      "\u001b[1;36m  File \u001b[1;32m\"<ipython-input-5-8230e8ce4454>\"\u001b[1;36m, line \u001b[1;32m1\u001b[0m\n\u001b[1;33m    print('D:/Ivan/YoloCheckpoints/OID_front_1_832/'+str(70)+''.weights')\u001b[0m\n\u001b[1;37m                                                                         ^\u001b[0m\n\u001b[1;31mSyntaxError\u001b[0m\u001b[1;31m:\u001b[0m EOL while scanning string literal\n"
     ]
    }
   ],
   "source": [
    "print('D:/Ivan/YoloCheckpoints/OID_front_1_832/'+str(70)+''.weights')"
   ]
  },
  {
   "cell_type": "code",
   "execution_count": null,
   "metadata": {},
   "outputs": [],
   "source": []
  }
 ],
 "metadata": {
  "kernelspec": {
   "display_name": "Python 3",
   "language": "python",
   "name": "python3"
  },
  "language_info": {
   "codemirror_mode": {
    "name": "ipython",
    "version": 3
   },
   "file_extension": ".py",
   "mimetype": "text/x-python",
   "name": "python",
   "nbconvert_exporter": "python",
   "pygments_lexer": "ipython3",
   "version": "3.7.2"
  }
 },
 "nbformat": 4,
 "nbformat_minor": 2
}
